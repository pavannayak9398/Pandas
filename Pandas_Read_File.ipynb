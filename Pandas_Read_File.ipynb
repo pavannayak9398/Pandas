{
  "nbformat": 4,
  "nbformat_minor": 0,
  "metadata": {
    "colab": {
      "provenance": []
    },
    "kernelspec": {
      "name": "python3",
      "display_name": "Python 3"
    },
    "language_info": {
      "name": "python"
    }
  },
  "cells": [
    {
      "cell_type": "code",
      "execution_count": null,
      "metadata": {
        "id": "unePkjgBkW5n"
      },
      "outputs": [],
      "source": [
        "import pandas as pd"
      ]
    },
    {
      "cell_type": "markdown",
      "source": [
        "# **XML File**\n"
      ],
      "metadata": {
        "id": "_aJVt_vvnBDH"
      }
    },
    {
      "cell_type": "code",
      "source": [
        "df_xml=pd.read_xml('file.xml')"
      ],
      "metadata": {
        "id": "fCvfhRNFnb8x"
      },
      "execution_count": null,
      "outputs": []
    },
    {
      "cell_type": "markdown",
      "source": [
        "# **PDF File**\n",
        "\n",
        "Pandas don't support reading PDFs, so using external libraries like pdfplumber."
      ],
      "metadata": {
        "id": "eUScxrNRnmtD"
      }
    },
    {
      "cell_type": "code",
      "source": [
        "#pip install pdfplumber"
      ],
      "metadata": {
        "id": "w34j2Krtn7V6"
      },
      "execution_count": null,
      "outputs": []
    },
    {
      "cell_type": "code",
      "source": [
        "import pdfplumber\n",
        "\n",
        "with pdfplumber.open('file.pdf') as pdf:\n",
        "  first_page=pdf.pages[0]\n",
        "  text=first_page.extract_text()\n",
        "\n",
        "print(text)\n",
        "\n",
        "# with statement automatically handles opening and closing files"
      ],
      "metadata": {
        "id": "y0eeixLHo-lf"
      },
      "execution_count": null,
      "outputs": []
    },
    {
      "cell_type": "markdown",
      "source": [
        "# **JSON Files**\n",
        "\n"
      ],
      "metadata": {
        "id": "LHK9Sc9mpPyu"
      }
    },
    {
      "cell_type": "code",
      "source": [
        "df_json=pd.read_json('file.json')\n",
        "\n",
        "print(df_json)"
      ],
      "metadata": {
        "id": "_t2bS2ASpcYo"
      },
      "execution_count": null,
      "outputs": []
    },
    {
      "cell_type": "markdown",
      "source": [
        "# **HTML Files**\n",
        "\n"
      ],
      "metadata": {
        "id": "YwfBYJXVp4k1"
      }
    },
    {
      "cell_type": "code",
      "source": [
        "df_html=pd.read_html('file.html')\n",
        "print(df_html[0])  # Display the first table found in the HTML"
      ],
      "metadata": {
        "id": "HpeO5I1Lp6uW"
      },
      "execution_count": null,
      "outputs": []
    },
    {
      "cell_type": "markdown",
      "source": [
        "# **Excel File**\n",
        "\n",
        "Pandas uses 'openpyxl' or 'xlrd' internally to open and close Excel files"
      ],
      "metadata": {
        "id": "dLw0n7dNq2iA"
      }
    },
    {
      "cell_type": "code",
      "source": [
        "df_excel=pd.read_excel(file.xlsx)\n",
        "\n",
        "print(df_excel)"
      ],
      "metadata": {
        "id": "iGuwaJxuq6Jq"
      },
      "execution_count": null,
      "outputs": []
    },
    {
      "cell_type": "markdown",
      "source": [
        "# **CSV File**"
      ],
      "metadata": {
        "id": "TAQ-ZGagrYPk"
      }
    },
    {
      "cell_type": "code",
      "source": [
        "df_csv=pd.read_csv('file.csv')\n",
        "\n",
        "print(df_csv)"
      ],
      "metadata": {
        "id": "F2U2gmq_rbTQ"
      },
      "execution_count": null,
      "outputs": []
    },
    {
      "cell_type": "markdown",
      "source": [
        "# **SQL Database**\n",
        "\n",
        "When connecting to a SQL database, you need to manually manage the connection, especially closing it after executing the query."
      ],
      "metadata": {
        "id": "Kq8lXkvLr2kI"
      }
    },
    {
      "cell_type": "code",
      "source": [
        "import sqlite3\n",
        "\n",
        "#Create connection\n",
        "conn=sqlite3.connect('yourdatabase.db')\n",
        "\n",
        "# Read data\n",
        "df_sql=pd.read_sql('Select * from Table',conn)\n",
        "print(df_sql)\n",
        "\n",
        "# Close the connection manually\n",
        "conn.close()\n",
        "\n"
      ],
      "metadata": {
        "id": "PWAJ7bRLr-Da"
      },
      "execution_count": null,
      "outputs": []
    },
    {
      "cell_type": "markdown",
      "source": [
        "# **Pickle File**\n"
      ],
      "metadata": {
        "id": "lL980D0hsuN8"
      }
    },
    {
      "cell_type": "code",
      "source": [
        "\n",
        "df_pickle=pd.read_pickle('file.pkl')\n",
        "\n",
        "print(df_pickle)"
      ],
      "metadata": {
        "id": "CweYkVz2tEFh"
      },
      "execution_count": null,
      "outputs": []
    }
  ]
}